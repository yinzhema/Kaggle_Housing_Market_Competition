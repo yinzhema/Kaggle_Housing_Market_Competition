{
 "cells": [
  {
   "cell_type": "code",
   "execution_count": 115,
   "metadata": {},
   "outputs": [],
   "source": [
    "import pandas as pd\n",
    "import numpy as np\n",
    "import matplotlib.pyplot as plt\n",
    "from sklearn.preprocessing import OneHotEncoder\n",
    "from sklearn.preprocessing import OrdinalEncoder\n",
    "from sklearn.preprocessing import StandardScaler\n",
    "from sklearn.feature_selection import SelectKBest\n",
    "from sklearn.feature_selection import mutual_info_regression,f_regression\n",
    "from sklearn.model_selection import train_test_split"
   ]
  },
  {
   "cell_type": "code",
   "execution_count": 116,
   "metadata": {},
   "outputs": [],
   "source": [
    "train_df=pd.read_csv('train.csv')\n",
    "test_df=pd.read_csv('test.csv')"
   ]
  },
  {
   "cell_type": "code",
   "execution_count": 117,
   "metadata": {},
   "outputs": [
    {
     "data": {
      "text/html": [
       "<div>\n",
       "<style scoped>\n",
       "    .dataframe tbody tr th:only-of-type {\n",
       "        vertical-align: middle;\n",
       "    }\n",
       "\n",
       "    .dataframe tbody tr th {\n",
       "        vertical-align: top;\n",
       "    }\n",
       "\n",
       "    .dataframe thead th {\n",
       "        text-align: right;\n",
       "    }\n",
       "</style>\n",
       "<table border=\"1\" class=\"dataframe\">\n",
       "  <thead>\n",
       "    <tr style=\"text-align: right;\">\n",
       "      <th></th>\n",
       "      <th>Id</th>\n",
       "      <th>MSSubClass</th>\n",
       "      <th>MSZoning</th>\n",
       "      <th>LotFrontage</th>\n",
       "      <th>LotArea</th>\n",
       "      <th>Street</th>\n",
       "      <th>Alley</th>\n",
       "      <th>LotShape</th>\n",
       "      <th>LandContour</th>\n",
       "      <th>Utilities</th>\n",
       "      <th>...</th>\n",
       "      <th>PoolArea</th>\n",
       "      <th>PoolQC</th>\n",
       "      <th>Fence</th>\n",
       "      <th>MiscFeature</th>\n",
       "      <th>MiscVal</th>\n",
       "      <th>MoSold</th>\n",
       "      <th>YrSold</th>\n",
       "      <th>SaleType</th>\n",
       "      <th>SaleCondition</th>\n",
       "      <th>SalePrice</th>\n",
       "    </tr>\n",
       "  </thead>\n",
       "  <tbody>\n",
       "    <tr>\n",
       "      <td>0</td>\n",
       "      <td>1</td>\n",
       "      <td>60</td>\n",
       "      <td>RL</td>\n",
       "      <td>65.0</td>\n",
       "      <td>8450</td>\n",
       "      <td>Pave</td>\n",
       "      <td>NaN</td>\n",
       "      <td>Reg</td>\n",
       "      <td>Lvl</td>\n",
       "      <td>AllPub</td>\n",
       "      <td>...</td>\n",
       "      <td>0</td>\n",
       "      <td>NaN</td>\n",
       "      <td>NaN</td>\n",
       "      <td>NaN</td>\n",
       "      <td>0</td>\n",
       "      <td>2</td>\n",
       "      <td>2008</td>\n",
       "      <td>WD</td>\n",
       "      <td>Normal</td>\n",
       "      <td>208500</td>\n",
       "    </tr>\n",
       "    <tr>\n",
       "      <td>1</td>\n",
       "      <td>2</td>\n",
       "      <td>20</td>\n",
       "      <td>RL</td>\n",
       "      <td>80.0</td>\n",
       "      <td>9600</td>\n",
       "      <td>Pave</td>\n",
       "      <td>NaN</td>\n",
       "      <td>Reg</td>\n",
       "      <td>Lvl</td>\n",
       "      <td>AllPub</td>\n",
       "      <td>...</td>\n",
       "      <td>0</td>\n",
       "      <td>NaN</td>\n",
       "      <td>NaN</td>\n",
       "      <td>NaN</td>\n",
       "      <td>0</td>\n",
       "      <td>5</td>\n",
       "      <td>2007</td>\n",
       "      <td>WD</td>\n",
       "      <td>Normal</td>\n",
       "      <td>181500</td>\n",
       "    </tr>\n",
       "    <tr>\n",
       "      <td>2</td>\n",
       "      <td>3</td>\n",
       "      <td>60</td>\n",
       "      <td>RL</td>\n",
       "      <td>68.0</td>\n",
       "      <td>11250</td>\n",
       "      <td>Pave</td>\n",
       "      <td>NaN</td>\n",
       "      <td>IR1</td>\n",
       "      <td>Lvl</td>\n",
       "      <td>AllPub</td>\n",
       "      <td>...</td>\n",
       "      <td>0</td>\n",
       "      <td>NaN</td>\n",
       "      <td>NaN</td>\n",
       "      <td>NaN</td>\n",
       "      <td>0</td>\n",
       "      <td>9</td>\n",
       "      <td>2008</td>\n",
       "      <td>WD</td>\n",
       "      <td>Normal</td>\n",
       "      <td>223500</td>\n",
       "    </tr>\n",
       "    <tr>\n",
       "      <td>3</td>\n",
       "      <td>4</td>\n",
       "      <td>70</td>\n",
       "      <td>RL</td>\n",
       "      <td>60.0</td>\n",
       "      <td>9550</td>\n",
       "      <td>Pave</td>\n",
       "      <td>NaN</td>\n",
       "      <td>IR1</td>\n",
       "      <td>Lvl</td>\n",
       "      <td>AllPub</td>\n",
       "      <td>...</td>\n",
       "      <td>0</td>\n",
       "      <td>NaN</td>\n",
       "      <td>NaN</td>\n",
       "      <td>NaN</td>\n",
       "      <td>0</td>\n",
       "      <td>2</td>\n",
       "      <td>2006</td>\n",
       "      <td>WD</td>\n",
       "      <td>Abnorml</td>\n",
       "      <td>140000</td>\n",
       "    </tr>\n",
       "    <tr>\n",
       "      <td>4</td>\n",
       "      <td>5</td>\n",
       "      <td>60</td>\n",
       "      <td>RL</td>\n",
       "      <td>84.0</td>\n",
       "      <td>14260</td>\n",
       "      <td>Pave</td>\n",
       "      <td>NaN</td>\n",
       "      <td>IR1</td>\n",
       "      <td>Lvl</td>\n",
       "      <td>AllPub</td>\n",
       "      <td>...</td>\n",
       "      <td>0</td>\n",
       "      <td>NaN</td>\n",
       "      <td>NaN</td>\n",
       "      <td>NaN</td>\n",
       "      <td>0</td>\n",
       "      <td>12</td>\n",
       "      <td>2008</td>\n",
       "      <td>WD</td>\n",
       "      <td>Normal</td>\n",
       "      <td>250000</td>\n",
       "    </tr>\n",
       "  </tbody>\n",
       "</table>\n",
       "<p>5 rows × 81 columns</p>\n",
       "</div>"
      ],
      "text/plain": [
       "   Id  MSSubClass MSZoning  LotFrontage  LotArea Street Alley LotShape  \\\n",
       "0   1          60       RL         65.0     8450   Pave   NaN      Reg   \n",
       "1   2          20       RL         80.0     9600   Pave   NaN      Reg   \n",
       "2   3          60       RL         68.0    11250   Pave   NaN      IR1   \n",
       "3   4          70       RL         60.0     9550   Pave   NaN      IR1   \n",
       "4   5          60       RL         84.0    14260   Pave   NaN      IR1   \n",
       "\n",
       "  LandContour Utilities  ... PoolArea PoolQC Fence MiscFeature MiscVal MoSold  \\\n",
       "0         Lvl    AllPub  ...        0    NaN   NaN         NaN       0      2   \n",
       "1         Lvl    AllPub  ...        0    NaN   NaN         NaN       0      5   \n",
       "2         Lvl    AllPub  ...        0    NaN   NaN         NaN       0      9   \n",
       "3         Lvl    AllPub  ...        0    NaN   NaN         NaN       0      2   \n",
       "4         Lvl    AllPub  ...        0    NaN   NaN         NaN       0     12   \n",
       "\n",
       "  YrSold  SaleType  SaleCondition  SalePrice  \n",
       "0   2008        WD         Normal     208500  \n",
       "1   2007        WD         Normal     181500  \n",
       "2   2008        WD         Normal     223500  \n",
       "3   2006        WD        Abnorml     140000  \n",
       "4   2008        WD         Normal     250000  \n",
       "\n",
       "[5 rows x 81 columns]"
      ]
     },
     "execution_count": 117,
     "metadata": {},
     "output_type": "execute_result"
    }
   ],
   "source": [
    "train_df.head()"
   ]
  },
  {
   "cell_type": "code",
   "execution_count": 118,
   "metadata": {},
   "outputs": [
    {
     "data": {
      "text/plain": [
       "(1460, 81)"
      ]
     },
     "execution_count": 118,
     "metadata": {},
     "output_type": "execute_result"
    }
   ],
   "source": [
    "train_df.shape"
   ]
  },
  {
   "cell_type": "code",
   "execution_count": 119,
   "metadata": {},
   "outputs": [
    {
     "data": {
      "text/plain": [
       "(1459, 80)"
      ]
     },
     "execution_count": 119,
     "metadata": {},
     "output_type": "execute_result"
    }
   ],
   "source": [
    "test_df.shape"
   ]
  },
  {
   "cell_type": "code",
   "execution_count": 120,
   "metadata": {},
   "outputs": [
    {
     "data": {
      "text/plain": [
       "Index(['Id', 'MSSubClass', 'MSZoning', 'LotFrontage', 'LotArea', 'Street',\n",
       "       'Alley', 'LotShape', 'LandContour', 'Utilities', 'LotConfig',\n",
       "       'LandSlope', 'Neighborhood', 'Condition1', 'Condition2', 'BldgType',\n",
       "       'HouseStyle', 'OverallQual', 'OverallCond', 'YearBuilt', 'YearRemodAdd',\n",
       "       'RoofStyle', 'RoofMatl', 'Exterior1st', 'Exterior2nd', 'MasVnrType',\n",
       "       'MasVnrArea', 'ExterQual', 'ExterCond', 'Foundation', 'BsmtQual',\n",
       "       'BsmtCond', 'BsmtExposure', 'BsmtFinType1', 'BsmtFinSF1',\n",
       "       'BsmtFinType2', 'BsmtFinSF2', 'BsmtUnfSF', 'TotalBsmtSF', 'Heating',\n",
       "       'HeatingQC', 'CentralAir', 'Electrical', '1stFlrSF', '2ndFlrSF',\n",
       "       'LowQualFinSF', 'GrLivArea', 'BsmtFullBath', 'BsmtHalfBath', 'FullBath',\n",
       "       'HalfBath', 'BedroomAbvGr', 'KitchenAbvGr', 'KitchenQual',\n",
       "       'TotRmsAbvGrd', 'Functional', 'Fireplaces', 'FireplaceQu', 'GarageType',\n",
       "       'GarageYrBlt', 'GarageFinish', 'GarageCars', 'GarageArea', 'GarageQual',\n",
       "       'GarageCond', 'PavedDrive', 'WoodDeckSF', 'OpenPorchSF',\n",
       "       'EnclosedPorch', '3SsnPorch', 'ScreenPorch', 'PoolArea', 'PoolQC',\n",
       "       'Fence', 'MiscFeature', 'MiscVal', 'MoSold', 'YrSold', 'SaleType',\n",
       "       'SaleCondition', 'SalePrice'],\n",
       "      dtype='object')"
      ]
     },
     "execution_count": 120,
     "metadata": {},
     "output_type": "execute_result"
    }
   ],
   "source": [
    "train_df.columns"
   ]
  },
  {
   "cell_type": "markdown",
   "metadata": {},
   "source": [
    "# Data Cleaning"
   ]
  },
  {
   "cell_type": "markdown",
   "metadata": {},
   "source": [
    "Takeout the columns with more than 50% missing value"
   ]
  },
  {
   "cell_type": "code",
   "execution_count": 121,
   "metadata": {},
   "outputs": [],
   "source": [
    "train_df=train_df.loc[:,train_df.columns[(train_df.isnull().sum()/1460)<0.5]]"
   ]
  },
  {
   "cell_type": "code",
   "execution_count": 122,
   "metadata": {},
   "outputs": [
    {
     "name": "stderr",
     "output_type": "stream",
     "text": [
      "/Library/Frameworks/Python.framework/Versions/3.7/lib/python3.7/site-packages/pandas/core/indexing.py:1418: FutureWarning: \n",
      "Passing list-likes to .loc or [] with any missing label will raise\n",
      "KeyError in the future, you can use .reindex() as an alternative.\n",
      "\n",
      "See the documentation here:\n",
      "https://pandas.pydata.org/pandas-docs/stable/user_guide/indexing.html#deprecate-loc-reindex-listlike\n",
      "  return self._getitem_tuple(key)\n"
     ]
    }
   ],
   "source": [
    "test_df=test_df.loc[:,train_df.columns]"
   ]
  },
  {
   "cell_type": "markdown",
   "metadata": {},
   "source": [
    "Take out columns with mostly the same values"
   ]
  },
  {
   "cell_type": "code",
   "execution_count": 123,
   "metadata": {},
   "outputs": [],
   "source": [
    "dropped_columns=[]\n",
    "for i in train_df.columns:\n",
    "    if train_df[i].value_counts(normalize=True).values[0]>0.8:\n",
    "        dropped_columns.append(i)"
   ]
  },
  {
   "cell_type": "code",
   "execution_count": 124,
   "metadata": {},
   "outputs": [],
   "source": [
    "new_columns=list(set(train_df.columns)-set(dropped_columns))\n",
    "train_df=train_df.loc[:,new_columns]\n",
    "test_df=test_df.loc[:,new_columns]"
   ]
  },
  {
   "cell_type": "markdown",
   "metadata": {},
   "source": [
    "take out More columns"
   ]
  },
  {
   "cell_type": "code",
   "execution_count": 125,
   "metadata": {},
   "outputs": [],
   "source": [
    "train_df.drop(['LotFrontage','FireplaceQu'],axis=1,inplace=True)\n",
    "test_df.drop(['LotFrontage','FireplaceQu'],axis=1,inplace=True)"
   ]
  },
  {
   "cell_type": "code",
   "execution_count": 126,
   "metadata": {},
   "outputs": [],
   "source": [
    "train_df.drop(['MasVnrType','MasVnrArea'],axis=1,inplace=True)\n",
    "test_df.drop(['MasVnrType','MasVnrArea'],axis=1,inplace=True)"
   ]
  },
  {
   "cell_type": "code",
   "execution_count": 127,
   "metadata": {},
   "outputs": [],
   "source": [
    "train_df.drop(['BsmtFullBath'],axis=1,inplace=True)\n",
    "test_df.drop(['BsmtFullBath'],axis=1,inplace=True)"
   ]
  },
  {
   "cell_type": "markdown",
   "metadata": {},
   "source": [
    "Fill na for GarageArea, Garagecars, Exterior2nd, Exterior 1st, BsmtFinSf1, KitchenQual, TotalBsmtSF, BsmtUnfSF"
   ]
  },
  {
   "cell_type": "code",
   "execution_count": 128,
   "metadata": {},
   "outputs": [],
   "source": [
    "test_df.GarageArea.fillna(test_df.GarageArea.mean(),inplace=True)\n",
    "test_df.GarageCars.fillna(test_df.GarageCars.mean(),inplace=True)\n",
    "test_df.Exterior2nd.fillna(test_df.Exterior2nd.value_counts().index[0],inplace=True)\n",
    "test_df.MSZoning.fillna(method='backfill',inplace=True)\n",
    "test_df.MSZoning.fillna(method='backfill',inplace=True)\n",
    "test_df.Exterior1st.fillna(test_df.Exterior1st.value_counts().index[0],inplace=True)\n",
    "test_df.BsmtFinSF1.fillna(test_df.BsmtFinSF1.mean(),inplace=True)\n",
    "test_df.KitchenQual.fillna(test_df.KitchenQual.value_counts().index[0],inplace=True)\n",
    "test_df.TotalBsmtSF.fillna(test_df.TotalBsmtSF.mean(),inplace=True)\n",
    "test_df.BsmtUnfSF.fillna(test_df.BsmtUnfSF.mean(),inplace=True)"
   ]
  },
  {
   "cell_type": "code",
   "execution_count": 129,
   "metadata": {},
   "outputs": [],
   "source": [
    "train_df.GarageType.fillna(train_df.GarageType.value_counts().index[0],inplace=True)\n",
    "train_df.GarageFinish.fillna(train_df.GarageFinish.value_counts().index[0],inplace=True)\n",
    "train_df.GarageYrBlt.fillna(train_df.GarageYrBlt.value_counts().index[0],inplace=True)"
   ]
  },
  {
   "cell_type": "code",
   "execution_count": 130,
   "metadata": {},
   "outputs": [],
   "source": [
    "test_df.GarageType.fillna(test_df.GarageType.value_counts().index[0],inplace=True)\n",
    "test_df.GarageFinish.fillna(test_df.GarageFinish.value_counts().index[0],inplace=True)\n",
    "test_df.GarageYrBlt.fillna(test_df.GarageYrBlt.value_counts().index[0],inplace=True)"
   ]
  },
  {
   "cell_type": "code",
   "execution_count": 131,
   "metadata": {},
   "outputs": [],
   "source": [
    "train_df.BsmtExposure.fillna(method='backfill',inplace=True)\n",
    "train_df.BsmtFinType1.fillna(method='backfill',inplace=True)\n",
    "train_df.BsmtQual.fillna(method='backfill',inplace=True)"
   ]
  },
  {
   "cell_type": "code",
   "execution_count": 132,
   "metadata": {},
   "outputs": [],
   "source": [
    "test_df.BsmtExposure.fillna(method='backfill',inplace=True)\n",
    "test_df.BsmtFinType1.fillna(method='backfill',inplace=True)\n",
    "test_df.BsmtQual.fillna(method='backfill',inplace=True)"
   ]
  },
  {
   "cell_type": "markdown",
   "metadata": {},
   "source": [
    "Split columns into categorical and numerical"
   ]
  },
  {
   "cell_type": "code",
   "execution_count": 133,
   "metadata": {},
   "outputs": [],
   "source": [
    "train_df.drop(columns=['Id'],inplace=True)\n",
    "y_train=train_df.loc[:,'SalePrice']\n",
    "x_train=train_df.drop(columns=['SalePrice'])"
   ]
  },
  {
   "cell_type": "code",
   "execution_count": 134,
   "metadata": {},
   "outputs": [],
   "source": [
    "test_df.drop(columns=['Id'],inplace=True)\n",
    "y_test=test_df.loc[:,'SalePrice']\n",
    "x_test=test_df.drop(columns=['SalePrice'])"
   ]
  },
  {
   "cell_type": "code",
   "execution_count": 135,
   "metadata": {},
   "outputs": [],
   "source": [
    "cat_df=x_train.select_dtypes(exclude=[np.number])\n",
    "num_df=x_train.select_dtypes(include=[np.number])"
   ]
  },
  {
   "cell_type": "code",
   "execution_count": 136,
   "metadata": {},
   "outputs": [],
   "source": [
    "x_train_train,x_train_test,y_train_train,y_train_test=train_test_split(x_train,y_train,test_size=0.2,random_state=42)"
   ]
  },
  {
   "cell_type": "code",
   "execution_count": 137,
   "metadata": {},
   "outputs": [
    {
     "name": "stderr",
     "output_type": "stream",
     "text": [
      "/Library/Frameworks/Python.framework/Versions/3.7/lib/python3.7/site-packages/pandas/core/indexing.py:494: SettingWithCopyWarning: \n",
      "A value is trying to be set on a copy of a slice from a DataFrame.\n",
      "Try using .loc[row_indexer,col_indexer] = value instead\n",
      "\n",
      "See the caveats in the documentation: http://pandas.pydata.org/pandas-docs/stable/user_guide/indexing.html#returning-a-view-versus-a-copy\n",
      "  self.obj[item] = s\n",
      "/Library/Frameworks/Python.framework/Versions/3.7/lib/python3.7/site-packages/pandas/core/indexing.py:494: SettingWithCopyWarning: \n",
      "A value is trying to be set on a copy of a slice from a DataFrame.\n",
      "Try using .loc[row_indexer,col_indexer] = value instead\n",
      "\n",
      "See the caveats in the documentation: http://pandas.pydata.org/pandas-docs/stable/user_guide/indexing.html#returning-a-view-versus-a-copy\n",
      "  self.obj[item] = s\n"
     ]
    }
   ],
   "source": [
    "encoder=OrdinalEncoder()\n",
    "x_train_train.loc[:,cat_df.columns]=encoder.fit_transform(x_train_train.loc[:,cat_df.columns])\n",
    "x_train_test.loc[:,cat_df.columns]=encoder.transform(x_train_test.loc[:,cat_df.columns])"
   ]
  },
  {
   "cell_type": "code",
   "execution_count": 138,
   "metadata": {},
   "outputs": [],
   "source": [
    "x_test.loc[:,cat_df.columns]=encoder.transform(x_test.loc[:,cat_df.columns])"
   ]
  },
  {
   "cell_type": "code",
   "execution_count": 139,
   "metadata": {},
   "outputs": [
    {
     "name": "stderr",
     "output_type": "stream",
     "text": [
      "/Library/Frameworks/Python.framework/Versions/3.7/lib/python3.7/site-packages/pandas/core/indexing.py:494: SettingWithCopyWarning: \n",
      "A value is trying to be set on a copy of a slice from a DataFrame.\n",
      "Try using .loc[row_indexer,col_indexer] = value instead\n",
      "\n",
      "See the caveats in the documentation: http://pandas.pydata.org/pandas-docs/stable/user_guide/indexing.html#returning-a-view-versus-a-copy\n",
      "  self.obj[item] = s\n",
      "/Library/Frameworks/Python.framework/Versions/3.7/lib/python3.7/site-packages/pandas/core/indexing.py:494: SettingWithCopyWarning: \n",
      "A value is trying to be set on a copy of a slice from a DataFrame.\n",
      "Try using .loc[row_indexer,col_indexer] = value instead\n",
      "\n",
      "See the caveats in the documentation: http://pandas.pydata.org/pandas-docs/stable/user_guide/indexing.html#returning-a-view-versus-a-copy\n",
      "  self.obj[item] = s\n"
     ]
    }
   ],
   "source": [
    "scaler=StandardScaler()\n",
    "x_train_train.loc[:,num_df.columns]=scaler.fit_transform(x_train_train.loc[:,num_df.columns])\n",
    "x_train_test.loc[:,num_df.columns]=scaler.fit_transform(x_train_test.loc[:,num_df.columns])\n",
    "x_test.loc[:,num_df.columns]=scaler.transform(x_test.loc[:,num_df.columns])"
   ]
  },
  {
   "cell_type": "markdown",
   "metadata": {},
   "source": [
    "Feature selection"
   ]
  },
  {
   "cell_type": "code",
   "execution_count": 140,
   "metadata": {},
   "outputs": [
    {
     "data": {
      "text/plain": [
       "SelectKBest(k='all', score_func=<function f_regression at 0x7f99a8b0fb90>)"
      ]
     },
     "execution_count": 140,
     "metadata": {},
     "output_type": "execute_result"
    }
   ],
   "source": [
    "selector=SelectKBest(score_func=f_regression,k='all')\n",
    "selector.fit(x_train_train,y_train_train)"
   ]
  },
  {
   "cell_type": "code",
   "execution_count": 141,
   "metadata": {},
   "outputs": [],
   "source": [
    "scores=selector.scores_\n",
    "index=np.arange(0,len(scores))\n",
    "score_list=list(zip(index,scores))\n",
    "score_list.sort(key=lambda x:x[1],reverse=True)\n",
    "score_list=score_list[:20]"
   ]
  },
  {
   "cell_type": "code",
   "execution_count": 142,
   "metadata": {},
   "outputs": [],
   "source": [
    "selected_columns=list(list(zip(*score_list))[0])\n",
    "x_train_train=x_train_train.iloc[:,selected_columns]\n",
    "x_train_test=x_train_test.iloc[:,selected_columns]"
   ]
  },
  {
   "cell_type": "code",
   "execution_count": 193,
   "metadata": {},
   "outputs": [],
   "source": [
    "x_test=x_test.loc[:,x_train.columns]"
   ]
  },
  {
   "cell_type": "markdown",
   "metadata": {},
   "source": [
    "Linear Regression"
   ]
  },
  {
   "cell_type": "code",
   "execution_count": 144,
   "metadata": {},
   "outputs": [
    {
     "data": {
      "text/plain": [
       "0.8308017287264006"
      ]
     },
     "execution_count": 144,
     "metadata": {},
     "output_type": "execute_result"
    }
   ],
   "source": [
    "from sklearn.linear_model import Ridge\n",
    "ridge_regressor=Ridge()\n",
    "ridge_regressor.fit(x_train_train,y_train_train)\n",
    "ridge_regressor.score(x_train_test,y_train_test)"
   ]
  },
  {
   "cell_type": "code",
   "execution_count": 145,
   "metadata": {},
   "outputs": [
    {
     "data": {
      "text/plain": [
       "0.8333187351124104"
      ]
     },
     "execution_count": 145,
     "metadata": {},
     "output_type": "execute_result"
    }
   ],
   "source": [
    "from sklearn.svm import SVR\n",
    "svr_regressor=SVR(kernel='linear',epsilon=5,C=1000)\n",
    "svr_regressor.fit(x_train_train,y_train_train)\n",
    "svr_regressor.score(x_train_test,y_train_test)"
   ]
  },
  {
   "cell_type": "code",
   "execution_count": 180,
   "metadata": {},
   "outputs": [
    {
     "data": {
      "text/plain": [
       "0.881667435343563"
      ]
     },
     "execution_count": 180,
     "metadata": {},
     "output_type": "execute_result"
    }
   ],
   "source": [
    "from sklearn.ensemble import RandomForestRegressor\n",
    "rf_regressor=RandomForestRegressor(n_estimators=150,criterion='mse',max_depth=10)\n",
    "rf_regressor.fit(x_train_train,y_train_train)\n",
    "rf_regressor.score(x_train_test,y_train_test)"
   ]
  },
  {
   "cell_type": "code",
   "execution_count": 175,
   "metadata": {},
   "outputs": [
    {
     "name": "stdout",
     "output_type": "stream",
     "text": [
      "Fitting 2 folds for each of 200 candidates, totalling 400 fits\n"
     ]
    },
    {
     "name": "stderr",
     "output_type": "stream",
     "text": [
      "[Parallel(n_jobs=6)]: Using backend LokyBackend with 6 concurrent workers.\n",
      "[Parallel(n_jobs=6)]: Done  29 tasks      | elapsed:    4.9s\n",
      "[Parallel(n_jobs=6)]: Done 150 tasks      | elapsed:   22.9s\n",
      "[Parallel(n_jobs=6)]: Done 353 tasks      | elapsed:   53.1s\n",
      "[Parallel(n_jobs=6)]: Done 400 out of 400 | elapsed:   59.7s finished\n"
     ]
    },
    {
     "data": {
      "text/plain": [
       "RandomizedSearchCV(cv=2, error_score=nan,\n",
       "                   estimator=RandomForestRegressor(bootstrap=True,\n",
       "                                                   ccp_alpha=0.0,\n",
       "                                                   criterion='mse',\n",
       "                                                   max_depth=None,\n",
       "                                                   max_features='auto',\n",
       "                                                   max_leaf_nodes=None,\n",
       "                                                   max_samples=None,\n",
       "                                                   min_impurity_decrease=0.0,\n",
       "                                                   min_impurity_split=None,\n",
       "                                                   min_samples_leaf=1,\n",
       "                                                   min_samples_split=2,\n",
       "                                                   min_weight_fraction_leaf=0.0,\n",
       "                                                   n_estimators=100,\n",
       "                                                   n_jobs=None, oob_score=Fals...\n",
       "                   iid='deprecated', n_iter=200, n_jobs=6,\n",
       "                   param_distributions={'max_depth': [10, 21, 32, 43, 54, 65,\n",
       "                                                      76, 87, 98, 110],\n",
       "                                        'max_features': ['auto', 'sqrt'],\n",
       "                                        'min_samples_leaf': [5, 7, 10],\n",
       "                                        'min_samples_split': [5, 7, 10, 13],\n",
       "                                        'n_estimators': array([100, 150, 200, 250, 300, 350, 400, 450])},\n",
       "                   pre_dispatch='2*n_jobs', random_state=42, refit=True,\n",
       "                   return_train_score=False,\n",
       "                   scoring='neg_mean_squared_log_error', verbose=2)"
      ]
     },
     "execution_count": 175,
     "metadata": {},
     "output_type": "execute_result"
    }
   ],
   "source": [
    "from sklearn.model_selection import RandomizedSearchCV\n",
    "# Number of trees in random forest\n",
    "n_estimators = np.arange(100,500,50)\n",
    "# Number of features to consider at every split\n",
    "max_features = ['auto', 'sqrt']\n",
    "# Maximum number of levels in tree\n",
    "max_depth = [int(x) for x in np.linspace(10, 110, num = 10)]\n",
    "# Minimum number of samples required to split a node\n",
    "min_samples_split = [5,7,10,13]\n",
    "# Minimum number of samples required at each leaf node\n",
    "min_samples_leaf = [5,7,10]\n",
    "# Create the random grid\n",
    "random_grid = {'n_estimators': n_estimators,\n",
    "               'max_features': max_features,\n",
    "               'max_depth': max_depth,\n",
    "               'min_samples_split': min_samples_split,\n",
    "               'min_samples_leaf': min_samples_leaf}\n",
    "# Use the random grid to search for best hyperparameters\n",
    "# First create the base model to tune\n",
    "rf = RandomForestRegressor()\n",
    "# Random search of parameters, using 3 fold cross validation, \n",
    "# search across 100 different combinations, and use all available cores\n",
    "rf_random = RandomizedSearchCV(estimator = rf, scoring='neg_mean_squared_log_error',param_distributions = random_grid, n_iter = 200, cv = 2, verbose=2, random_state=42, n_jobs = 6)\n",
    "# Fit the random search model\n",
    "rf_random.fit(x_train, y_train)"
   ]
  },
  {
   "cell_type": "code",
   "execution_count": 176,
   "metadata": {},
   "outputs": [
    {
     "data": {
      "text/plain": [
       "{'n_estimators': 100,\n",
       " 'min_samples_split': 7,\n",
       " 'min_samples_leaf': 5,\n",
       " 'max_features': 'auto',\n",
       " 'max_depth': 43}"
      ]
     },
     "execution_count": 176,
     "metadata": {},
     "output_type": "execute_result"
    }
   ],
   "source": [
    "rf_random.best_params_"
   ]
  },
  {
   "cell_type": "code",
   "execution_count": 190,
   "metadata": {},
   "outputs": [
    {
     "data": {
      "text/plain": [
       "0.8855247314455157"
      ]
     },
     "execution_count": 190,
     "metadata": {},
     "output_type": "execute_result"
    }
   ],
   "source": [
    "from sklearn.ensemble import RandomForestRegressor\n",
    "rf_regressor=RandomForestRegressor(n_estimators=200,criterion='mse',max_depth=15)\n",
    "rf_regressor.fit(x_train_train,y_train_train)\n",
    "rf_regressor.score(x_train_test,y_train_test)"
   ]
  },
  {
   "cell_type": "code",
   "execution_count": 178,
   "metadata": {},
   "outputs": [
    {
     "data": {
      "text/plain": [
       "RandomForestRegressor(bootstrap=True, ccp_alpha=0.0, criterion='mse',\n",
       "                      max_depth=43, max_features='auto', max_leaf_nodes=None,\n",
       "                      max_samples=None, min_impurity_decrease=0.0,\n",
       "                      min_impurity_split=None, min_samples_leaf=5,\n",
       "                      min_samples_split=7, min_weight_fraction_leaf=0.0,\n",
       "                      n_estimators=100, n_jobs=None, oob_score=False,\n",
       "                      random_state=None, verbose=0, warm_start=False)"
      ]
     },
     "execution_count": 178,
     "metadata": {},
     "output_type": "execute_result"
    }
   ],
   "source": [
    "rf_regressor.fit(x_train,y_train)"
   ]
  },
  {
   "cell_type": "code",
   "execution_count": 191,
   "metadata": {},
   "outputs": [
    {
     "data": {
      "text/plain": [
       "0.16527090018901316"
      ]
     },
     "execution_count": 191,
     "metadata": {},
     "output_type": "execute_result"
    }
   ],
   "source": [
    "from sklearn.metrics import mean_squared_error\n",
    "y_pred=rf_regressor.predict(x_train_test)\n",
    "mean_squared_error(np.log(y_pred),np.log(y_train_test),squared=False)"
   ]
  },
  {
   "cell_type": "code",
   "execution_count": 194,
   "metadata": {},
   "outputs": [
    {
     "data": {
      "text/plain": [
       "array([126542.3062062 , 153812.11248994, 182234.99367299, ...,\n",
       "       154765.22430869, 115781.17985427, 225448.58772727])"
      ]
     },
     "execution_count": 194,
     "metadata": {},
     "output_type": "execute_result"
    }
   ],
   "source": [
    "rf_regressor.predict(x_test)"
   ]
  },
  {
   "cell_type": "code",
   "execution_count": 196,
   "metadata": {},
   "outputs": [],
   "source": [
    "x_test['SalePrice']=rf_regressor.predict(x_test)"
   ]
  },
  {
   "cell_type": "code",
   "execution_count": 207,
   "metadata": {},
   "outputs": [],
   "source": [
    "x_test['Id']=x_test.index+1461"
   ]
  },
  {
   "cell_type": "code",
   "execution_count": 209,
   "metadata": {},
   "outputs": [],
   "source": [
    "x_test[['Id','SalePrice']].to_csv('result.csv')"
   ]
  },
  {
   "cell_type": "code",
   "execution_count": 208,
   "metadata": {},
   "outputs": [
    {
     "data": {
      "text/html": [
       "<div>\n",
       "<style scoped>\n",
       "    .dataframe tbody tr th:only-of-type {\n",
       "        vertical-align: middle;\n",
       "    }\n",
       "\n",
       "    .dataframe tbody tr th {\n",
       "        vertical-align: top;\n",
       "    }\n",
       "\n",
       "    .dataframe thead th {\n",
       "        text-align: right;\n",
       "    }\n",
       "</style>\n",
       "<table border=\"1\" class=\"dataframe\">\n",
       "  <thead>\n",
       "    <tr style=\"text-align: right;\">\n",
       "      <th></th>\n",
       "      <th>OverallQual</th>\n",
       "      <th>GrLivArea</th>\n",
       "      <th>GarageCars</th>\n",
       "      <th>GarageArea</th>\n",
       "      <th>ExterQual</th>\n",
       "      <th>TotalBsmtSF</th>\n",
       "      <th>KitchenQual</th>\n",
       "      <th>1stFlrSF</th>\n",
       "      <th>BsmtQual</th>\n",
       "      <th>FullBath</th>\n",
       "      <th>...</th>\n",
       "      <th>YearBuilt</th>\n",
       "      <th>YearRemodAdd</th>\n",
       "      <th>Fireplaces</th>\n",
       "      <th>HeatingQC</th>\n",
       "      <th>GarageYrBlt</th>\n",
       "      <th>Foundation</th>\n",
       "      <th>BsmtFinSF1</th>\n",
       "      <th>WoodDeckSF</th>\n",
       "      <th>SalePrice</th>\n",
       "      <th>Id</th>\n",
       "    </tr>\n",
       "  </thead>\n",
       "  <tbody>\n",
       "    <tr>\n",
       "      <td>0</td>\n",
       "      <td>-0.701882</td>\n",
       "      <td>-1.084947</td>\n",
       "      <td>-0.917665</td>\n",
       "      <td>1.207184</td>\n",
       "      <td>3.0</td>\n",
       "      <td>-0.367329</td>\n",
       "      <td>3.0</td>\n",
       "      <td>-0.622535</td>\n",
       "      <td>3.0</td>\n",
       "      <td>-0.916735</td>\n",
       "      <td>...</td>\n",
       "      <td>-0.406909</td>\n",
       "      <td>-1.170184</td>\n",
       "      <td>-0.922263</td>\n",
       "      <td>4.0</td>\n",
       "      <td>-0.749447</td>\n",
       "      <td>1.0</td>\n",
       "      <td>0.076364</td>\n",
       "      <td>0.496225</td>\n",
       "      <td>126542.306206</td>\n",
       "      <td>1461</td>\n",
       "    </tr>\n",
       "    <tr>\n",
       "      <td>1</td>\n",
       "      <td>-0.007138</td>\n",
       "      <td>-0.263237</td>\n",
       "      <td>-0.917665</td>\n",
       "      <td>-0.660366</td>\n",
       "      <td>3.0</td>\n",
       "      <td>0.671481</td>\n",
       "      <td>2.0</td>\n",
       "      <td>0.501953</td>\n",
       "      <td>3.0</td>\n",
       "      <td>-0.916735</td>\n",
       "      <td>...</td>\n",
       "      <td>-0.513280</td>\n",
       "      <td>-1.318061</td>\n",
       "      <td>-0.922263</td>\n",
       "      <td>4.0</td>\n",
       "      <td>-0.871249</td>\n",
       "      <td>1.0</td>\n",
       "      <td>1.101393</td>\n",
       "      <td>2.884599</td>\n",
       "      <td>153812.112490</td>\n",
       "      <td>1462</td>\n",
       "    </tr>\n",
       "    <tr>\n",
       "      <td>2</td>\n",
       "      <td>-0.701882</td>\n",
       "      <td>0.306078</td>\n",
       "      <td>0.376819</td>\n",
       "      <td>0.099164</td>\n",
       "      <td>3.0</td>\n",
       "      <td>-0.260427</td>\n",
       "      <td>3.0</td>\n",
       "      <td>-0.539432</td>\n",
       "      <td>2.0</td>\n",
       "      <td>0.856025</td>\n",
       "      <td>...</td>\n",
       "      <td>0.869553</td>\n",
       "      <td>0.653629</td>\n",
       "      <td>0.634389</td>\n",
       "      <td>2.0</td>\n",
       "      <td>0.712183</td>\n",
       "      <td>2.0</td>\n",
       "      <td>0.804022</td>\n",
       "      <td>1.175921</td>\n",
       "      <td>182234.993673</td>\n",
       "      <td>1463</td>\n",
       "    </tr>\n",
       "    <tr>\n",
       "      <td>3</td>\n",
       "      <td>-0.007138</td>\n",
       "      <td>0.258635</td>\n",
       "      <td>0.376819</td>\n",
       "      <td>0.045550</td>\n",
       "      <td>3.0</td>\n",
       "      <td>-0.265075</td>\n",
       "      <td>2.0</td>\n",
       "      <td>-0.544626</td>\n",
       "      <td>3.0</td>\n",
       "      <td>0.856025</td>\n",
       "      <td>...</td>\n",
       "      <td>0.905010</td>\n",
       "      <td>0.653629</td>\n",
       "      <td>0.634389</td>\n",
       "      <td>0.0</td>\n",
       "      <td>0.752784</td>\n",
       "      <td>2.0</td>\n",
       "      <td>0.378241</td>\n",
       "      <td>2.573072</td>\n",
       "      <td>193150.583842</td>\n",
       "      <td>1464</td>\n",
       "    </tr>\n",
       "    <tr>\n",
       "      <td>4</td>\n",
       "      <td>1.382350</td>\n",
       "      <td>-0.356225</td>\n",
       "      <td>0.376819</td>\n",
       "      <td>0.206392</td>\n",
       "      <td>2.0</td>\n",
       "      <td>0.557607</td>\n",
       "      <td>2.0</td>\n",
       "      <td>0.374702</td>\n",
       "      <td>2.0</td>\n",
       "      <td>0.856025</td>\n",
       "      <td>...</td>\n",
       "      <td>0.692267</td>\n",
       "      <td>0.357875</td>\n",
       "      <td>-0.922263</td>\n",
       "      <td>0.0</td>\n",
       "      <td>0.509179</td>\n",
       "      <td>2.0</td>\n",
       "      <td>-0.385462</td>\n",
       "      <td>-0.825404</td>\n",
       "      <td>211620.967361</td>\n",
       "      <td>1465</td>\n",
       "    </tr>\n",
       "    <tr>\n",
       "      <td>...</td>\n",
       "      <td>...</td>\n",
       "      <td>...</td>\n",
       "      <td>...</td>\n",
       "      <td>...</td>\n",
       "      <td>...</td>\n",
       "      <td>...</td>\n",
       "      <td>...</td>\n",
       "      <td>...</td>\n",
       "      <td>...</td>\n",
       "      <td>...</td>\n",
       "      <td>...</td>\n",
       "      <td>...</td>\n",
       "      <td>...</td>\n",
       "      <td>...</td>\n",
       "      <td>...</td>\n",
       "      <td>...</td>\n",
       "      <td>...</td>\n",
       "      <td>...</td>\n",
       "      <td>...</td>\n",
       "      <td>...</td>\n",
       "      <td>...</td>\n",
       "    </tr>\n",
       "    <tr>\n",
       "      <td>1454</td>\n",
       "      <td>-1.396626</td>\n",
       "      <td>-0.712995</td>\n",
       "      <td>-2.212148</td>\n",
       "      <td>-2.054326</td>\n",
       "      <td>3.0</td>\n",
       "      <td>-1.148179</td>\n",
       "      <td>3.0</td>\n",
       "      <td>-1.531474</td>\n",
       "      <td>3.0</td>\n",
       "      <td>-0.916735</td>\n",
       "      <td>...</td>\n",
       "      <td>-0.087793</td>\n",
       "      <td>-0.726554</td>\n",
       "      <td>-0.922263</td>\n",
       "      <td>2.0</td>\n",
       "      <td>1.036990</td>\n",
       "      <td>1.0</td>\n",
       "      <td>-0.977951</td>\n",
       "      <td>-0.825404</td>\n",
       "      <td>91583.409933</td>\n",
       "      <td>2915</td>\n",
       "    </tr>\n",
       "    <tr>\n",
       "      <td>1455</td>\n",
       "      <td>-1.396626</td>\n",
       "      <td>-0.712995</td>\n",
       "      <td>-0.917665</td>\n",
       "      <td>-0.776529</td>\n",
       "      <td>3.0</td>\n",
       "      <td>-1.148179</td>\n",
       "      <td>3.0</td>\n",
       "      <td>-1.531474</td>\n",
       "      <td>3.0</td>\n",
       "      <td>-0.916735</td>\n",
       "      <td>...</td>\n",
       "      <td>-0.087793</td>\n",
       "      <td>-0.726554</td>\n",
       "      <td>-0.922263</td>\n",
       "      <td>4.0</td>\n",
       "      <td>-0.384039</td>\n",
       "      <td>1.0</td>\n",
       "      <td>-0.410243</td>\n",
       "      <td>-0.825404</td>\n",
       "      <td>102572.073202</td>\n",
       "      <td>2916</td>\n",
       "    </tr>\n",
       "    <tr>\n",
       "      <td>1456</td>\n",
       "      <td>-0.701882</td>\n",
       "      <td>-0.462497</td>\n",
       "      <td>0.376819</td>\n",
       "      <td>0.519140</td>\n",
       "      <td>3.0</td>\n",
       "      <td>0.427465</td>\n",
       "      <td>3.0</td>\n",
       "      <td>0.229272</td>\n",
       "      <td>3.0</td>\n",
       "      <td>-0.916735</td>\n",
       "      <td>...</td>\n",
       "      <td>-0.442366</td>\n",
       "      <td>0.555044</td>\n",
       "      <td>0.634389</td>\n",
       "      <td>0.0</td>\n",
       "      <td>-0.790048</td>\n",
       "      <td>1.0</td>\n",
       "      <td>1.779489</td>\n",
       "      <td>3.649256</td>\n",
       "      <td>154765.224309</td>\n",
       "      <td>2917</td>\n",
       "    </tr>\n",
       "    <tr>\n",
       "      <td>1457</td>\n",
       "      <td>-0.701882</td>\n",
       "      <td>-0.944516</td>\n",
       "      <td>-2.212148</td>\n",
       "      <td>-2.054326</td>\n",
       "      <td>3.0</td>\n",
       "      <td>-0.297610</td>\n",
       "      <td>3.0</td>\n",
       "      <td>-0.430359</td>\n",
       "      <td>2.0</td>\n",
       "      <td>-0.916735</td>\n",
       "      <td>...</td>\n",
       "      <td>0.692267</td>\n",
       "      <td>0.357875</td>\n",
       "      <td>-0.922263</td>\n",
       "      <td>4.0</td>\n",
       "      <td>1.036990</td>\n",
       "      <td>2.0</td>\n",
       "      <td>-0.218754</td>\n",
       "      <td>-0.070187</td>\n",
       "      <td>115781.179854</td>\n",
       "      <td>2918</td>\n",
       "    </tr>\n",
       "    <tr>\n",
       "      <td>1458</td>\n",
       "      <td>0.687606</td>\n",
       "      <td>1.010131</td>\n",
       "      <td>1.671302</td>\n",
       "      <td>0.849758</td>\n",
       "      <td>3.0</td>\n",
       "      <td>-0.102397</td>\n",
       "      <td>3.0</td>\n",
       "      <td>-0.362838</td>\n",
       "      <td>2.0</td>\n",
       "      <td>0.856025</td>\n",
       "      <td>...</td>\n",
       "      <td>0.727724</td>\n",
       "      <td>0.456460</td>\n",
       "      <td>0.634389</td>\n",
       "      <td>0.0</td>\n",
       "      <td>0.549780</td>\n",
       "      <td>2.0</td>\n",
       "      <td>0.729679</td>\n",
       "      <td>0.968236</td>\n",
       "      <td>225448.587727</td>\n",
       "      <td>2919</td>\n",
       "    </tr>\n",
       "  </tbody>\n",
       "</table>\n",
       "<p>1459 rows × 22 columns</p>\n",
       "</div>"
      ],
      "text/plain": [
       "      OverallQual  GrLivArea  GarageCars  GarageArea  ExterQual  TotalBsmtSF  \\\n",
       "0       -0.701882  -1.084947   -0.917665    1.207184        3.0    -0.367329   \n",
       "1       -0.007138  -0.263237   -0.917665   -0.660366        3.0     0.671481   \n",
       "2       -0.701882   0.306078    0.376819    0.099164        3.0    -0.260427   \n",
       "3       -0.007138   0.258635    0.376819    0.045550        3.0    -0.265075   \n",
       "4        1.382350  -0.356225    0.376819    0.206392        2.0     0.557607   \n",
       "...           ...        ...         ...         ...        ...          ...   \n",
       "1454    -1.396626  -0.712995   -2.212148   -2.054326        3.0    -1.148179   \n",
       "1455    -1.396626  -0.712995   -0.917665   -0.776529        3.0    -1.148179   \n",
       "1456    -0.701882  -0.462497    0.376819    0.519140        3.0     0.427465   \n",
       "1457    -0.701882  -0.944516   -2.212148   -2.054326        3.0    -0.297610   \n",
       "1458     0.687606   1.010131    1.671302    0.849758        3.0    -0.102397   \n",
       "\n",
       "      KitchenQual  1stFlrSF  BsmtQual  FullBath  ...  YearBuilt  YearRemodAdd  \\\n",
       "0             3.0 -0.622535       3.0 -0.916735  ...  -0.406909     -1.170184   \n",
       "1             2.0  0.501953       3.0 -0.916735  ...  -0.513280     -1.318061   \n",
       "2             3.0 -0.539432       2.0  0.856025  ...   0.869553      0.653629   \n",
       "3             2.0 -0.544626       3.0  0.856025  ...   0.905010      0.653629   \n",
       "4             2.0  0.374702       2.0  0.856025  ...   0.692267      0.357875   \n",
       "...           ...       ...       ...       ...  ...        ...           ...   \n",
       "1454          3.0 -1.531474       3.0 -0.916735  ...  -0.087793     -0.726554   \n",
       "1455          3.0 -1.531474       3.0 -0.916735  ...  -0.087793     -0.726554   \n",
       "1456          3.0  0.229272       3.0 -0.916735  ...  -0.442366      0.555044   \n",
       "1457          3.0 -0.430359       2.0 -0.916735  ...   0.692267      0.357875   \n",
       "1458          3.0 -0.362838       2.0  0.856025  ...   0.727724      0.456460   \n",
       "\n",
       "      Fireplaces  HeatingQC  GarageYrBlt  Foundation  BsmtFinSF1  WoodDeckSF  \\\n",
       "0      -0.922263        4.0    -0.749447         1.0    0.076364    0.496225   \n",
       "1      -0.922263        4.0    -0.871249         1.0    1.101393    2.884599   \n",
       "2       0.634389        2.0     0.712183         2.0    0.804022    1.175921   \n",
       "3       0.634389        0.0     0.752784         2.0    0.378241    2.573072   \n",
       "4      -0.922263        0.0     0.509179         2.0   -0.385462   -0.825404   \n",
       "...          ...        ...          ...         ...         ...         ...   \n",
       "1454   -0.922263        2.0     1.036990         1.0   -0.977951   -0.825404   \n",
       "1455   -0.922263        4.0    -0.384039         1.0   -0.410243   -0.825404   \n",
       "1456    0.634389        0.0    -0.790048         1.0    1.779489    3.649256   \n",
       "1457   -0.922263        4.0     1.036990         2.0   -0.218754   -0.070187   \n",
       "1458    0.634389        0.0     0.549780         2.0    0.729679    0.968236   \n",
       "\n",
       "          SalePrice    Id  \n",
       "0     126542.306206  1461  \n",
       "1     153812.112490  1462  \n",
       "2     182234.993673  1463  \n",
       "3     193150.583842  1464  \n",
       "4     211620.967361  1465  \n",
       "...             ...   ...  \n",
       "1454   91583.409933  2915  \n",
       "1455  102572.073202  2916  \n",
       "1456  154765.224309  2917  \n",
       "1457  115781.179854  2918  \n",
       "1458  225448.587727  2919  \n",
       "\n",
       "[1459 rows x 22 columns]"
      ]
     },
     "execution_count": 208,
     "metadata": {},
     "output_type": "execute_result"
    }
   ],
   "source": [
    "x_test"
   ]
  },
  {
   "cell_type": "code",
   "execution_count": 206,
   "metadata": {},
   "outputs": [
    {
     "data": {
      "text/plain": [
       "(1459, 22)"
      ]
     },
     "execution_count": 206,
     "metadata": {},
     "output_type": "execute_result"
    }
   ],
   "source": [
    "x_test.shape"
   ]
  },
  {
   "cell_type": "code",
   "execution_count": null,
   "metadata": {},
   "outputs": [],
   "source": []
  }
 ],
 "metadata": {
  "kernelspec": {
   "display_name": "Python 3",
   "language": "python",
   "name": "python3"
  },
  "language_info": {
   "codemirror_mode": {
    "name": "ipython",
    "version": 3
   },
   "file_extension": ".py",
   "mimetype": "text/x-python",
   "name": "python",
   "nbconvert_exporter": "python",
   "pygments_lexer": "ipython3",
   "version": "3.7.4"
  }
 },
 "nbformat": 4,
 "nbformat_minor": 2
}
